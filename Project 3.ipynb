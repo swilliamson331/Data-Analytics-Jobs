{
 "cells": [
  {
   "cell_type": "markdown",
   "id": "d5db8e75-5552-4f43-9316-6e9ab3532564",
   "metadata": {},
   "source": [
    "# Project Title\n",
    "## Participants:\n",
    "### Data Source\n",
    "\n"
   ]
  },
  {
   "cell_type": "code",
   "execution_count": 12,
   "id": "6d14cb1c-1389-4b73-892e-9b44caf7c8b7",
   "metadata": {},
   "outputs": [],
   "source": [
    "# Data Analysis Job Market "
   ]
  },
  {
   "cell_type": "code",
   "execution_count": 13,
   "id": "3e02a55f-de8c-4092-ab36-e78c422744a1",
   "metadata": {},
   "outputs": [],
   "source": [
    "# Import dependencies\n",
    "import pandas as pd\n",
    "import numpy as np\n",
    "#import matplot.lib.pyplot as plt\n",
    "from scipy.stats import linregress\n",
    "from pathlib import Path"
   ]
  },
  {
   "cell_type": "code",
   "execution_count": 14,
   "id": "d040c057-4691-45d0-ace6-0922970c25d0",
   "metadata": {},
   "outputs": [],
   "source": [
    "#Import csv file\n",
    "\n",
    "csv_path = Path(\"Code/data_science_job.csv\")\n",
    "\n",
    "# Read the CSV into a Pandas DataFrame\n",
    "data_analysis_df = pd.read_csv(csv_path)\n",
    "\n"
   ]
  },
  {
   "cell_type": "code",
   "execution_count": 11,
   "id": "b9f954f8-3c2e-4c33-835a-f1f6939f583f",
   "metadata": {},
   "outputs": [
    {
     "data": {
      "text/html": [
       "<div>\n",
       "<style scoped>\n",
       "    .dataframe tbody tr th:only-of-type {\n",
       "        vertical-align: middle;\n",
       "    }\n",
       "\n",
       "    .dataframe tbody tr th {\n",
       "        vertical-align: top;\n",
       "    }\n",
       "\n",
       "    .dataframe thead th {\n",
       "        text-align: right;\n",
       "    }\n",
       "</style>\n",
       "<table border=\"1\" class=\"dataframe\">\n",
       "  <thead>\n",
       "    <tr style=\"text-align: right;\">\n",
       "      <th></th>\n",
       "      <th>work_year</th>\n",
       "      <th>job_title</th>\n",
       "      <th>job_category</th>\n",
       "      <th>salary_currency</th>\n",
       "      <th>salary</th>\n",
       "      <th>salary_in_usd</th>\n",
       "      <th>employee_residence</th>\n",
       "      <th>experience_level</th>\n",
       "      <th>employment_type</th>\n",
       "      <th>work_setting</th>\n",
       "      <th>company_location</th>\n",
       "      <th>company_size</th>\n",
       "    </tr>\n",
       "  </thead>\n",
       "  <tbody>\n",
       "    <tr>\n",
       "      <th>0</th>\n",
       "      <td>2022</td>\n",
       "      <td>Machine Learning Engineer  in office</td>\n",
       "      <td>Analysis</td>\n",
       "      <td>EUR</td>\n",
       "      <td>186597</td>\n",
       "      <td>136086</td>\n",
       "      <td>US</td>\n",
       "      <td>MI</td>\n",
       "      <td>CT</td>\n",
       "      <td>Remote</td>\n",
       "      <td>DE</td>\n",
       "      <td>L</td>\n",
       "    </tr>\n",
       "    <tr>\n",
       "      <th>1</th>\n",
       "      <td>2020</td>\n",
       "      <td>Statistician  (Remote)</td>\n",
       "      <td>ML/AI</td>\n",
       "      <td>JPY</td>\n",
       "      <td>110630</td>\n",
       "      <td>67982</td>\n",
       "      <td>JP</td>\n",
       "      <td>EX</td>\n",
       "      <td>FL</td>\n",
       "      <td>Remote</td>\n",
       "      <td>IN</td>\n",
       "      <td>M</td>\n",
       "    </tr>\n",
       "    <tr>\n",
       "      <th>2</th>\n",
       "      <td>2022</td>\n",
       "      <td>Machine Learning Engineer</td>\n",
       "      <td>ML/AI</td>\n",
       "      <td>INR</td>\n",
       "      <td>61280</td>\n",
       "      <td>153309</td>\n",
       "      <td>UK</td>\n",
       "      <td>MI</td>\n",
       "      <td>CT</td>\n",
       "      <td>Hybrid</td>\n",
       "      <td>CN</td>\n",
       "      <td>L</td>\n",
       "    </tr>\n",
       "    <tr>\n",
       "      <th>3</th>\n",
       "      <td>2022</td>\n",
       "      <td>Data Analyst  in office</td>\n",
       "      <td>ML/AI</td>\n",
       "      <td>JPY</td>\n",
       "      <td>154130</td>\n",
       "      <td>135242</td>\n",
       "      <td>DE</td>\n",
       "      <td>SE</td>\n",
       "      <td>FT</td>\n",
       "      <td>Hybrid</td>\n",
       "      <td>MX</td>\n",
       "      <td>L</td>\n",
       "    </tr>\n",
       "    <tr>\n",
       "      <th>4</th>\n",
       "      <td>2020</td>\n",
       "      <td>Statistician</td>\n",
       "      <td>Data Science</td>\n",
       "      <td>EUR</td>\n",
       "      <td>172312</td>\n",
       "      <td>35156</td>\n",
       "      <td>UK</td>\n",
       "      <td>MI</td>\n",
       "      <td>FT</td>\n",
       "      <td>In-person</td>\n",
       "      <td>UK</td>\n",
       "      <td>S</td>\n",
       "    </tr>\n",
       "  </tbody>\n",
       "</table>\n",
       "</div>"
      ],
      "text/plain": [
       "   work_year                             job_title  job_category  \\\n",
       "0       2022  Machine Learning Engineer  in office      Analysis   \n",
       "1       2020                Statistician  (Remote)         ML/AI   \n",
       "2       2022           Machine Learning Engineer           ML/AI   \n",
       "3       2022               Data Analyst  in office         ML/AI   \n",
       "4       2020                        Statistician    Data Science   \n",
       "\n",
       "  salary_currency  salary  salary_in_usd employee_residence experience_level  \\\n",
       "0             EUR  186597         136086                 US               MI   \n",
       "1             JPY  110630          67982                 JP               EX   \n",
       "2             INR   61280         153309                 UK               MI   \n",
       "3             JPY  154130         135242                 DE               SE   \n",
       "4             EUR  172312          35156                 UK               MI   \n",
       "\n",
       "  employment_type work_setting company_location company_size  \n",
       "0              CT       Remote               DE            L  \n",
       "1              FL       Remote               IN            M  \n",
       "2              CT       Hybrid               CN            L  \n",
       "3              FT       Hybrid               MX            L  \n",
       "4              FT    In-person               UK            S  "
      ]
     },
     "execution_count": 11,
     "metadata": {},
     "output_type": "execute_result"
    }
   ],
   "source": [
    "# Create a Dataframe\n",
    "\n",
    "data_analysis_df.head()"
   ]
  },
  {
   "cell_type": "code",
   "execution_count": null,
   "id": "ee6cc861",
   "metadata": {},
   "outputs": [],
   "source": [
    "# Rename Columns "
   ]
  },
  {
   "cell_type": "code",
   "execution_count": null,
   "id": "0dbac120-e9ad-4af4-a6fe-62563d432a25",
   "metadata": {},
   "outputs": [],
   "source": [
    "# Cleaning the Data - remove the columns \"salary_currency\" and \"salary column\""
   ]
  },
  {
   "cell_type": "code",
   "execution_count": null,
   "id": "0c9b7cbc-2156-4eae-8487-56ca268eeae5",
   "metadata": {},
   "outputs": [],
   "source": [
    "# Understand the data limitations - columns with blank rows to build visuals and what columns to use \n"
   ]
  },
  {
   "cell_type": "code",
   "execution_count": null,
   "id": "a6e64fa9-63d3-489e-848e-dd5b5985f0ab",
   "metadata": {},
   "outputs": [],
   "source": [
    "# create some graphs and bargraphs, etc....salaries, \n"
   ]
  },
  {
   "cell_type": "code",
   "execution_count": null,
   "id": "1c876256-1456-483b-b7d9-bc7041c9c492",
   "metadata": {},
   "outputs": [],
   "source": [
    "#Resave the file as json "
   ]
  },
  {
   "cell_type": "code",
   "execution_count": null,
   "id": "54ce965e-4ebf-45dc-a93d-facca2d84d47",
   "metadata": {},
   "outputs": [],
   "source": [
    "#Visuals in json "
   ]
  },
  {
   "cell_type": "code",
   "execution_count": null,
   "id": "f5dae87c-2286-40e6-9b75-d13c7b68ba2f",
   "metadata": {},
   "outputs": [],
   "source": [
    "# Create a leaflet map to show locattions with markers. \n",
    "#Geographical Analysis: Visualizing popular job locations for data science roles.\n"
   ]
  },
  {
   "cell_type": "code",
   "execution_count": null,
   "id": "83ce908d-659c-4d4b-b98e-63ed7176f033",
   "metadata": {},
   "outputs": [],
   "source": []
  },
  {
   "cell_type": "code",
   "execution_count": null,
   "id": "5f03e677-2357-4202-908f-bb6d82a4c3a4",
   "metadata": {},
   "outputs": [],
   "source": []
  }
 ],
 "metadata": {
  "kernelspec": {
   "display_name": "Python 3 (ipykernel)",
   "language": "python",
   "name": "python3"
  },
  "language_info": {
   "codemirror_mode": {
    "name": "ipython",
    "version": 3
   },
   "file_extension": ".py",
   "mimetype": "text/x-python",
   "name": "python",
   "nbconvert_exporter": "python",
   "pygments_lexer": "ipython3",
   "version": "3.10.14"
  }
 },
 "nbformat": 4,
 "nbformat_minor": 5
}
